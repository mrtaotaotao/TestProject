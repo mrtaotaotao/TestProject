{
 "cells": [
  {
   "cell_type": "code",
   "execution_count": 1,
   "metadata": {},
   "outputs": [],
   "source": [
    "#数据预处理后做可视化分析\n",
    "\n",
    "#预处理后的新文件名称\n",
    "#userdata.csv\n",
    "\n",
    "#列名称\t说明\n",
    "#User_Id      用户名 \n",
    "#Sku_Id       商品序号\n",
    "#Category_Id  商品类目序号\n",
    "#Type         用户行为类型包括('pv', 'buy', 'cart', 'fav')\n",
    "#Timestamp    年月日小时分钟秒\n",
    "#Date         年月日\n",
    "#Hour         小时 "
   ]
  },
  {
   "cell_type": "code",
   "execution_count": 2,
   "metadata": {},
   "outputs": [],
   "source": [
    "import pandas as pd\n",
    "import numpy as np\n",
    "import matplotlib.pyplot as plt\n",
    "import seaborn as sns\n",
    "import time\n",
    "import warnings\n",
    "warnings.filterwarnings('ignore')\n",
    "%matplotlib inline\n",
    "plt.style.use('ggplot')  # 更改绘图风格 R语言绘图库的风格\n",
    "plt.rcParams['font.family']='SimHei'\n",
    "plt.rcParams['axes.unicode_minus']= False"
   ]
  },
  {
   "cell_type": "code",
   "execution_count": 3,
   "metadata": {},
   "outputs": [],
   "source": [
    "userdata=pd.read_csv('userdata.csv')"
   ]
  },
  {
   "cell_type": "code",
   "execution_count": 4,
   "metadata": {},
   "outputs": [
    {
     "name": "stdout",
     "output_type": "stream",
     "text": [
      "<class 'pandas.core.frame.DataFrame'>\n",
      "RangeIndex: 7889263 entries, 0 to 7889262\n",
      "Data columns (total 8 columns):\n",
      " #   Column       Dtype \n",
      "---  ------       ----- \n",
      " 0   Unnamed: 0   int64 \n",
      " 1   User_Id      int64 \n",
      " 2   Sku_Id       int64 \n",
      " 3   Category_Id  int64 \n",
      " 4   Type         object\n",
      " 5   Timestamp    object\n",
      " 6   Date         object\n",
      " 7   Time         object\n",
      "dtypes: int64(4), object(4)\n",
      "memory usage: 481.5+ MB\n"
     ]
    }
   ],
   "source": [
    "userdata.info()"
   ]
  },
  {
   "cell_type": "code",
   "execution_count": 5,
   "metadata": {},
   "outputs": [
    {
     "name": "stdout",
     "output_type": "stream",
     "text": [
      "总访问量为 7064791\n",
      "总访客数为 933816\n"
     ]
    }
   ],
   "source": [
    "# 总访问量\n",
    "pv = userdata[userdata['Type'] == 'pv']['User_Id'].count()\n",
    "print('总访问量为 %i' %pv)\n",
    "# 总访客数\n",
    "uv = userdata['User_Id'].nunique()\n",
    "print('总访客数为 %i' %uv)"
   ]
  },
  {
   "cell_type": "code",
   "execution_count": 6,
   "metadata": {},
   "outputs": [
    {
     "name": "stdout",
     "output_type": "stream",
     "text": [
      "日均访问量为 1009255.857\n",
      "人均访问量为 7.566\n"
     ]
    }
   ],
   "source": [
    "# 日均访问量\n",
    "pv_per_day = pv / userdata['Date'].nunique()\n",
    "print('日均访问量为 %.3f' %pv_per_day)\n",
    "# 人均访问量\n",
    "pv_per_user = pv / uv\n",
    "print('人均访问量为 %.3f' %pv_per_user)"
   ]
  },
  {
   "cell_type": "code",
   "execution_count": 7,
   "metadata": {},
   "outputs": [
    {
     "name": "stdout",
     "output_type": "stream",
     "text": [
      "消费用户数为 135585\n",
      "消费用户数占比为 14.519%\n",
      "消费用户访问量为 1219364\n",
      "消费用户访问量占比为 17.260%\n",
      "消费用户人均访问量为 8.993\n"
     ]
    }
   ],
   "source": [
    "# 消费用户数\n",
    "user_buy = userdata[userdata['Type'] == 'buy']['User_Id'].unique()\n",
    "print('消费用户数为 %i' %len(user_buy))\n",
    "# 消费用户数占比\n",
    "user_buy_rate = len(user_buy) / uv\n",
    "print('消费用户数占比为 %.3f%%' %(user_buy_rate * 100))\n",
    "# 消费用户访问量\n",
    "pv_buy = userdata[userdata['User_Id'].isin(user_buy)]['Type'].value_counts().pv\n",
    "print('消费用户访问量为 %i' %pv_buy)\n",
    "# 消费用户访问量占比\n",
    "pv_pay_rate = pv_buy / pv\n",
    "print('消费用户访问量占比为 %.3f%%' %(pv_pay_rate * 100))\n",
    "# 消费用户人均访问量\n",
    "pv_per_buy_user = pv_buy / len(user_buy)\n",
    "print('消费用户人均访问量为 %.3f' %pv_per_buy_user)"
   ]
  },
  {
   "cell_type": "code",
   "execution_count": 8,
   "metadata": {},
   "outputs": [
    {
     "name": "stdout",
     "output_type": "stream",
     "text": [
      "复购率为 14.638%\n"
     ]
    }
   ],
   "source": [
    "# 单个用户消费总次数\n",
    "total_buy_count = (userdata[userdata['Type']=='buy'].groupby(['User_Id'])['Type'].count().to_frame().rename(columns={'Type':'total'}))\n",
    "# 复购率\n",
    "re_buy_rate = total_buy_count[total_buy_count>=2].count()/total_buy_count.count()\n",
    "print('复购率为 %.3f%%' %(re_buy_rate * 100))"
   ]
  },
  {
   "cell_type": "code",
   "execution_count": 9,
   "metadata": {},
   "outputs": [
    {
     "data": {
      "text/html": [
       "<div>\n",
       "<style scoped>\n",
       "    .dataframe tbody tr th:only-of-type {\n",
       "        vertical-align: middle;\n",
       "    }\n",
       "\n",
       "    .dataframe tbody tr th {\n",
       "        vertical-align: top;\n",
       "    }\n",
       "\n",
       "    .dataframe thead th {\n",
       "        text-align: right;\n",
       "    }\n",
       "</style>\n",
       "<table border=\"1\" class=\"dataframe\">\n",
       "  <thead>\n",
       "    <tr style=\"text-align: right;\">\n",
       "      <th></th>\n",
       "      <th>total</th>\n",
       "    </tr>\n",
       "    <tr>\n",
       "      <th>User_Id</th>\n",
       "      <th></th>\n",
       "    </tr>\n",
       "  </thead>\n",
       "  <tbody>\n",
       "    <tr>\n",
       "      <th>2</th>\n",
       "      <td>1</td>\n",
       "    </tr>\n",
       "    <tr>\n",
       "      <th>4</th>\n",
       "      <td>2</td>\n",
       "    </tr>\n",
       "    <tr>\n",
       "      <th>16</th>\n",
       "      <td>1</td>\n",
       "    </tr>\n",
       "    <tr>\n",
       "      <th>20</th>\n",
       "      <td>1</td>\n",
       "    </tr>\n",
       "    <tr>\n",
       "      <th>41</th>\n",
       "      <td>3</td>\n",
       "    </tr>\n",
       "  </tbody>\n",
       "</table>\n",
       "</div>"
      ],
      "text/plain": [
       "         total\n",
       "User_Id       \n",
       "2            1\n",
       "4            2\n",
       "16           1\n",
       "20           1\n",
       "41           3"
      ]
     },
     "execution_count": 9,
     "metadata": {},
     "output_type": "execute_result"
    }
   ],
   "source": [
    "total_buy_count.head()"
   ]
  },
  {
   "cell_type": "code",
   "execution_count": 10,
   "metadata": {},
   "outputs": [
    {
     "data": {
      "text/html": [
       "<div>\n",
       "<style scoped>\n",
       "    .dataframe tbody tr th:only-of-type {\n",
       "        vertical-align: middle;\n",
       "    }\n",
       "\n",
       "    .dataframe tbody tr th {\n",
       "        vertical-align: top;\n",
       "    }\n",
       "\n",
       "    .dataframe thead th {\n",
       "        text-align: right;\n",
       "    }\n",
       "</style>\n",
       "<table border=\"1\" class=\"dataframe\">\n",
       "  <thead>\n",
       "    <tr style=\"text-align: right;\">\n",
       "      <th></th>\n",
       "      <th>total</th>\n",
       "    </tr>\n",
       "  </thead>\n",
       "  <tbody>\n",
       "    <tr>\n",
       "      <th>count</th>\n",
       "      <td>135585.000000</td>\n",
       "    </tr>\n",
       "    <tr>\n",
       "      <th>mean</th>\n",
       "      <td>1.181370</td>\n",
       "    </tr>\n",
       "    <tr>\n",
       "      <th>std</th>\n",
       "      <td>0.501877</td>\n",
       "    </tr>\n",
       "    <tr>\n",
       "      <th>min</th>\n",
       "      <td>1.000000</td>\n",
       "    </tr>\n",
       "    <tr>\n",
       "      <th>25%</th>\n",
       "      <td>1.000000</td>\n",
       "    </tr>\n",
       "    <tr>\n",
       "      <th>50%</th>\n",
       "      <td>1.000000</td>\n",
       "    </tr>\n",
       "    <tr>\n",
       "      <th>75%</th>\n",
       "      <td>1.000000</td>\n",
       "    </tr>\n",
       "    <tr>\n",
       "      <th>max</th>\n",
       "      <td>23.000000</td>\n",
       "    </tr>\n",
       "  </tbody>\n",
       "</table>\n",
       "</div>"
      ],
      "text/plain": [
       "               total\n",
       "count  135585.000000\n",
       "mean        1.181370\n",
       "std         0.501877\n",
       "min         1.000000\n",
       "25%         1.000000\n",
       "50%         1.000000\n",
       "75%         1.000000\n",
       "max        23.000000"
      ]
     },
     "execution_count": 10,
     "metadata": {},
     "output_type": "execute_result"
    }
   ],
   "source": [
    "total_buy_count.describe()"
   ]
  },
  {
   "cell_type": "code",
   "execution_count": 11,
   "metadata": {},
   "outputs": [
    {
     "data": {
      "text/plain": [
       "Text(0, 0.5, 'Number of Users')"
      ]
     },
     "execution_count": 11,
     "metadata": {},
     "output_type": "execute_result"
    },
    {
     "data": {
      "image/png": "[encoded data removed]",
      "text/plain": [
       "<Figure size 1600x600 with 1 Axes>"
      ]
     },
     "metadata": {},
     "output_type": "display_data"
    }
   ],
   "source": [
    "# 绘制散点分布图\n",
    "tbc_box = total_buy_count.reset_index()\n",
    "fig, ax = plt.subplots(figsize=[16,6])\n",
    "ax.set_yscale(\"log\")\n",
    "sns.countplot(x=tbc_box['total'],data=tbc_box,palette='Set1')\n",
    "for p in ax.patches:\n",
    "        ax.annotate('{:.3f}%'.format(100*p.get_height()/len(tbc_box['total'])), (p.get_x() - 0.1, p.get_height()))\n",
    "plt.title('用户消费总次数')\n",
    "plt.xlabel('Total Buy Count')\n",
    "plt.ylabel('Number of Users')"
   ]
  },
  {
   "cell_type": "code",
   "execution_count": 12,
   "metadata": {},
   "outputs": [],
   "source": [
    "# 消费次数前10客户\n",
    "topbuyer10 = total_buy_count.sort_values(by='total',ascending=False)[:10]"
   ]
  },
  {
   "cell_type": "code",
   "execution_count": 13,
   "metadata": {},
   "outputs": [
    {
     "data": {
      "text/html": [
       "<style type=\"text/css\">\n",
       "#T_cc2df_row0_col1 {\n",
       "  width: 10em;\n",
       "  background: linear-gradient(90deg, skyblue 100.0%, transparent 100.0%);\n",
       "}\n",
       "#T_cc2df_row1_col1, #T_cc2df_row2_col1 {\n",
       "  width: 10em;\n",
       "  background: linear-gradient(90deg, skyblue 56.5%, transparent 56.5%);\n",
       "}\n",
       "#T_cc2df_row3_col1 {\n",
       "  width: 10em;\n",
       "  background: linear-gradient(90deg, skyblue 52.2%, transparent 52.2%);\n",
       "}\n",
       "#T_cc2df_row4_col1 {\n",
       "  width: 10em;\n",
       "  background: linear-gradient(90deg, skyblue 47.8%, transparent 47.8%);\n",
       "}\n",
       "#T_cc2df_row5_col1, #T_cc2df_row6_col1, #T_cc2df_row7_col1, #T_cc2df_row8_col1 {\n",
       "  width: 10em;\n",
       "  background: linear-gradient(90deg, skyblue 43.5%, transparent 43.5%);\n",
       "}\n",
       "#T_cc2df_row9_col1 {\n",
       "  width: 10em;\n",
       "  background: linear-gradient(90deg, skyblue 39.1%, transparent 39.1%);\n",
       "}\n",
       "</style>\n",
       "<table id=\"T_cc2df\">\n",
       "  <thead>\n",
       "    <tr>\n",
       "      <th class=\"blank level0\" >&nbsp;</th>\n",
       "      <th id=\"T_cc2df_level0_col0\" class=\"col_heading level0 col0\" >User_Id</th>\n",
       "      <th id=\"T_cc2df_level0_col1\" class=\"col_heading level0 col1\" >total</th>\n",
       "    </tr>\n",
       "  </thead>\n",
       "  <tbody>\n",
       "    <tr>\n",
       "      <th id=\"T_cc2df_level0_row0\" class=\"row_heading level0 row0\" >0</th>\n",
       "      <td id=\"T_cc2df_row0_col0\" class=\"data row0 col0\" >866670</td>\n",
       "      <td id=\"T_cc2df_row0_col1\" class=\"data row0 col1\" >23</td>\n",
       "    </tr>\n",
       "    <tr>\n",
       "      <th id=\"T_cc2df_level0_row1\" class=\"row_heading level0 row1\" >1</th>\n",
       "      <td id=\"T_cc2df_row1_col0\" class=\"data row1 col0\" >107013</td>\n",
       "      <td id=\"T_cc2df_row1_col1\" class=\"data row1 col1\" >13</td>\n",
       "    </tr>\n",
       "    <tr>\n",
       "      <th id=\"T_cc2df_level0_row2\" class=\"row_heading level0 row2\" >2</th>\n",
       "      <td id=\"T_cc2df_row2_col0\" class=\"data row2 col0\" >702034</td>\n",
       "      <td id=\"T_cc2df_row2_col1\" class=\"data row2 col1\" >13</td>\n",
       "    </tr>\n",
       "    <tr>\n",
       "      <th id=\"T_cc2df_level0_row3\" class=\"row_heading level0 row3\" >3</th>\n",
       "      <td id=\"T_cc2df_row3_col0\" class=\"data row3 col0\" >78030</td>\n",
       "      <td id=\"T_cc2df_row3_col1\" class=\"data row3 col1\" >12</td>\n",
       "    </tr>\n",
       "    <tr>\n",
       "      <th id=\"T_cc2df_level0_row4\" class=\"row_heading level0 row4\" >4</th>\n",
       "      <td id=\"T_cc2df_row4_col0\" class=\"data row4 col0\" >432739</td>\n",
       "      <td id=\"T_cc2df_row4_col1\" class=\"data row4 col1\" >11</td>\n",
       "    </tr>\n",
       "    <tr>\n",
       "      <th id=\"T_cc2df_level0_row5\" class=\"row_heading level0 row5\" >5</th>\n",
       "      <td id=\"T_cc2df_row5_col0\" class=\"data row5 col0\" >537150</td>\n",
       "      <td id=\"T_cc2df_row5_col1\" class=\"data row5 col1\" >10</td>\n",
       "    </tr>\n",
       "    <tr>\n",
       "      <th id=\"T_cc2df_level0_row6\" class=\"row_heading level0 row6\" >6</th>\n",
       "      <td id=\"T_cc2df_row6_col0\" class=\"data row6 col0\" >1014116</td>\n",
       "      <td id=\"T_cc2df_row6_col1\" class=\"data row6 col1\" >10</td>\n",
       "    </tr>\n",
       "    <tr>\n",
       "      <th id=\"T_cc2df_level0_row7\" class=\"row_heading level0 row7\" >7</th>\n",
       "      <td id=\"T_cc2df_row7_col0\" class=\"data row7 col0\" >834051</td>\n",
       "      <td id=\"T_cc2df_row7_col1\" class=\"data row7 col1\" >10</td>\n",
       "    </tr>\n",
       "    <tr>\n",
       "      <th id=\"T_cc2df_level0_row8\" class=\"row_heading level0 row8\" >8</th>\n",
       "      <td id=\"T_cc2df_row8_col0\" class=\"data row8 col0\" >960681</td>\n",
       "      <td id=\"T_cc2df_row8_col1\" class=\"data row8 col1\" >10</td>\n",
       "    </tr>\n",
       "    <tr>\n",
       "      <th id=\"T_cc2df_level0_row9\" class=\"row_heading level0 row9\" >9</th>\n",
       "      <td id=\"T_cc2df_row9_col0\" class=\"data row9 col0\" >978886</td>\n",
       "      <td id=\"T_cc2df_row9_col1\" class=\"data row9 col1\" >9</td>\n",
       "    </tr>\n",
       "  </tbody>\n",
       "</table>\n"
      ],
      "text/plain": [
       "<pandas.io.formats.style.Styler at 0x29b27f4e1c0>"
      ]
     },
     "execution_count": 13,
     "metadata": {},
     "output_type": "execute_result"
    }
   ],
   "source": [
    "topbuyer10.reset_index().style.bar(color='skyblue',subset=['total'])"
   ]
  },
  {
   "cell_type": "code",
   "execution_count": 14,
   "metadata": {},
   "outputs": [],
   "source": [
    "#消费次数为1的用户占比极大，可适当增加推广，完善购物体验，提高用户消费次数。同时提高对高消费次数的用户对商品的满意度，增大留存率及复购率"
   ]
  },
  {
   "cell_type": "code",
   "execution_count": 15,
   "metadata": {},
   "outputs": [],
   "source": [
    "#每日浏览量\n",
    "pv_daily = userdata[userdata['Type'] == 'pv'].groupby('Date')['User_Id'].count()\n",
    "#每日购买量\n",
    "buy_daily = userdata[userdata['Type'] == 'buy'].groupby('Date')['User_Id'].count()"
   ]
  },
  {
   "cell_type": "code",
   "execution_count": 16,
   "metadata": {},
   "outputs": [
    {
     "data": {
      "text/plain": [
       "Text(0.5, 1.0, '每日购买量')"
      ]
     },
     "execution_count": 16,
     "metadata": {},
     "output_type": "execute_result"
    },
    {
     "data": {
      "image/png": "[encoded data removed]",
      "text/plain": [
       "<Figure size 1400x420 with 2 Axes>"
      ]
     },
     "metadata": {},
     "output_type": "display_data"
    }
   ],
   "source": [
    "plt.figure(figsize=(20,6),dpi =70)\n",
    "ax1 = plt.subplot(1,2,1)\n",
    "ax2 = plt.subplot(1,2,2)\n",
    "\n",
    "# 每日浏览量\n",
    "plt.sca(ax1)\n",
    "sns.pointplot(pv_daily.index, pv_daily.values, markers='D', linestyles='--',color='blue')\n",
    "x=list(range(0,16))\n",
    "plt.title('每日浏览量')\n",
    "\n",
    "# 每日购买量\n",
    "plt.sca(ax2)\n",
    "sns.pointplot(buy_daily.index, buy_daily.values, markers='H', linestyles='--',color='green')\n",
    "x=list(range(0,16))\n",
    "plt.title('每日购买量')"
   ]
  },
  {
   "cell_type": "code",
   "execution_count": 17,
   "metadata": {},
   "outputs": [],
   "source": [
    "#到周末，波动大，应为节假日营销活动或推广拉新活动带来的影响"
   ]
  },
  {
   "cell_type": "code",
   "execution_count": 18,
   "metadata": {},
   "outputs": [],
   "source": [
    "userdata['Hour'] = pd.to_datetime(userdata['Time']).dt.hour # 小时"
   ]
  },
  {
   "cell_type": "code",
   "execution_count": 19,
   "metadata": {},
   "outputs": [],
   "source": [
    "#每时浏览量\n",
    "pv_hourly = userdata[userdata['Type'] == 'pv'].groupby('Hour')['User_Id'].count()\n",
    "#每时购买量\n",
    "uv_hourly = userdata[userdata['Type'] == 'buy'].groupby('Hour')['User_Id'].count()"
   ]
  },
  {
   "cell_type": "code",
   "execution_count": 20,
   "metadata": {},
   "outputs": [
    {
     "data": {
      "text/plain": [
       "Text(0.5, 1.0, '每时购买量')"
      ]
     },
     "execution_count": 20,
     "metadata": {},
     "output_type": "execute_result"
    },
    {
     "data": {
      "image/png": "[encoded data removed]",
      "text/plain": [
       "<Figure size 1400x420 with 2 Axes>"
      ]
     },
     "metadata": {},
     "output_type": "display_data"
    }
   ],
   "source": [
    "plt.figure(figsize=(20,6),dpi =70)\n",
    "ax3 = plt.subplot(1,2,1)\n",
    "ax4 = plt.subplot(1,2,2)\n",
    "\n",
    "# 每时浏览量\n",
    "plt.sca(ax3)\n",
    "sns.pointplot(pv_hourly.index, pv_hourly.values, markers='D', linestyles='--',color='blue')\n",
    "plt.title('每时浏览量')\n",
    "\n",
    "# 每时购买量\n",
    "plt.sca(ax4)\n",
    "sns.pointplot(uv_hourly.index, uv_hourly.values, markers='H', linestyles='--',color='green')\n",
    "plt.title('每时购买量')"
   ]
  },
  {
   "cell_type": "code",
   "execution_count": 22,
   "metadata": {},
   "outputs": [],
   "source": [
    "#浏览数与购买量曲线基本保持一致。20-22间为最高峰。1-6为低峰，可用作维护时间。需要注意的是购买曲线在中午时偏高，而浏览量中等，说明该时段的整体转化情况最佳。\n",
    "#可以把握9点及20点两个关键时间点，增大商品的推广力度，加大营销收入，取得更好的收益。"
   ]
  },
  {
   "cell_type": "code",
   "execution_count": 24,
   "metadata": {},
   "outputs": [],
   "source": [
    "#漏斗转化模型"
   ]
  },
  {
   "cell_type": "code",
   "execution_count": 28,
   "metadata": {},
   "outputs": [
    {
     "data": {
      "text/plain": [
       "pv      7064791\n",
       "cart     437025\n",
       "fav      227271\n",
       "buy      160176\n",
       "Name: Type, dtype: int64"
      ]
     },
     "execution_count": 28,
     "metadata": {},
     "output_type": "execute_result"
    }
   ],
   "source": [
    "#行为分布\n",
    "userdata2=userdata['Type'].value_counts()\n",
    "userdata2"
   ]
  },
  {
   "cell_type": "code",
   "execution_count": 29,
   "metadata": {},
   "outputs": [
    {
     "data": {
      "text/html": [
       "<div>\n",
       "<style scoped>\n",
       "    .dataframe tbody tr th:only-of-type {\n",
       "        vertical-align: middle;\n",
       "    }\n",
       "\n",
       "    .dataframe tbody tr th {\n",
       "        vertical-align: top;\n",
       "    }\n",
       "\n",
       "    .dataframe thead th {\n",
       "        text-align: right;\n",
       "    }\n",
       "</style>\n",
       "<table border=\"1\" class=\"dataframe\">\n",
       "  <thead>\n",
       "    <tr style=\"text-align: right;\">\n",
       "      <th></th>\n",
       "      <th>Type</th>\n",
       "      <th>Num</th>\n",
       "    </tr>\n",
       "  </thead>\n",
       "  <tbody>\n",
       "    <tr>\n",
       "      <th>0</th>\n",
       "      <td>pv</td>\n",
       "      <td>7064791</td>\n",
       "    </tr>\n",
       "    <tr>\n",
       "      <th>1</th>\n",
       "      <td>cart+fav</td>\n",
       "      <td>664296</td>\n",
       "    </tr>\n",
       "    <tr>\n",
       "      <th>3</th>\n",
       "      <td>buy</td>\n",
       "      <td>160176</td>\n",
       "    </tr>\n",
       "  </tbody>\n",
       "</table>\n",
       "</div>"
      ],
      "text/plain": [
       "       Type      Num\n",
       "0        pv  7064791\n",
       "1  cart+fav   664296\n",
       "3       buy   160176"
      ]
     },
     "execution_count": 29,
     "metadata": {},
     "output_type": "execute_result"
    }
   ],
   "source": [
    "Type_num = {'Type':userdata2.index,'Num':userdata2.values}\n",
    "userdata2 = pd.DataFrame(Type_num)\n",
    "userdata2.loc[1,\"Type\"]=\"cart+fav\"\n",
    "userdata2.loc[1,\"Num\"]+=userdata2.loc[2,\"Num\"]\n",
    "\n",
    "userdata2=userdata2.loc[[0,1,3],:]\n",
    "userdata2"
   ]
  },
  {
   "cell_type": "code",
   "execution_count": 30,
   "metadata": {},
   "outputs": [
    {
     "data": {
      "text/html": [
       "<div>\n",
       "<style scoped>\n",
       "    .dataframe tbody tr th:only-of-type {\n",
       "        vertical-align: middle;\n",
       "    }\n",
       "\n",
       "    .dataframe tbody tr th {\n",
       "        vertical-align: top;\n",
       "    }\n",
       "\n",
       "    .dataframe thead th {\n",
       "        text-align: right;\n",
       "    }\n",
       "</style>\n",
       "<table border=\"1\" class=\"dataframe\">\n",
       "  <thead>\n",
       "    <tr style=\"text-align: right;\">\n",
       "      <th></th>\n",
       "      <th>Type</th>\n",
       "      <th>Num</th>\n",
       "      <th>单一环节转化率</th>\n",
       "      <th>总体转化率</th>\n",
       "    </tr>\n",
       "  </thead>\n",
       "  <tbody>\n",
       "    <tr>\n",
       "      <th>0</th>\n",
       "      <td>pv</td>\n",
       "      <td>7064791</td>\n",
       "      <td>1.0000</td>\n",
       "      <td>1.0000</td>\n",
       "    </tr>\n",
       "    <tr>\n",
       "      <th>1</th>\n",
       "      <td>cart+fav</td>\n",
       "      <td>664296</td>\n",
       "      <td>0.0940</td>\n",
       "      <td>0.0940</td>\n",
       "    </tr>\n",
       "    <tr>\n",
       "      <th>3</th>\n",
       "      <td>buy</td>\n",
       "      <td>160176</td>\n",
       "      <td>0.2411</td>\n",
       "      <td>0.0227</td>\n",
       "    </tr>\n",
       "  </tbody>\n",
       "</table>\n",
       "</div>"
      ],
      "text/plain": [
       "       Type      Num  单一环节转化率   总体转化率\n",
       "0        pv  7064791   1.0000  1.0000\n",
       "1  cart+fav   664296   0.0940  0.0940\n",
       "3       buy   160176   0.2411  0.0227"
      ]
     },
     "execution_count": 30,
     "metadata": {},
     "output_type": "execute_result"
    }
   ],
   "source": [
    "temp1 = np.array(userdata2['Num'][1:])\n",
    "temp2 = np.array(userdata2['Num'][0:-1])\n",
    "single_convs = temp1 / temp2\n",
    "single_convs = list(single_convs)\n",
    "single_convs.insert(0,1)\n",
    "single_convs = [round(x,4) for x in single_convs] \n",
    "userdata2['单一环节转化率'] = single_convs\n",
    "\n",
    "temp3 = np.array(userdata2['Num'])\n",
    "temp4= np.ones(len(userdata2['Num'])) * userdata2['Num'][0]\n",
    "total_convs = (temp3 / temp4).tolist()\n",
    "total_convs = [round(x,4) for x in total_convs]\n",
    "userdata2['总体转化率'] = total_convs\n",
    "\n",
    "userdata2"
   ]
  },
  {
   "cell_type": "code",
   "execution_count": null,
   "metadata": {},
   "outputs": [],
   "source": [
    "#from pyecharts import Funnel   \n",
    "#没找到pyecharts module,后补一个漏斗图"
   ]
  }
 ],
 "metadata": {
  "kernelspec": {
   "display_name": "base",
   "language": "python",
   "name": "python3"
  },
  "language_info": {
   "codemirror_mode": {
    "name": "ipython",
    "version": 3
   },
   "file_extension": ".py",
   "mimetype": "text/x-python",
   "name": "python",
   "nbconvert_exporter": "python",
   "pygments_lexer": "ipython3",
   "version": "3.9.13"
  },
  "orig_nbformat": 4
 },
 "nbformat": 4,
 "nbformat_minor": 2
}
