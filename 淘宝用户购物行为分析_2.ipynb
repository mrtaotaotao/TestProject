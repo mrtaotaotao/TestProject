{
 "cells": [
  {
   "cell_type": "code",
   "execution_count": 106,
   "metadata": {},
   "outputs": [],
   "source": [
    "import pandas as pd\n",
    "import numpy as np\n",
    "import matplotlib.pyplot as plt\n",
    "import seaborn as sns\n",
    "from datetime import datetime\n",
    "import warnings\n",
    "warnings.filterwarnings('ignore')\n",
    "%matplotlib inline\n",
    "plt.style.use('ggplot')  # 更改绘图风格 R语言绘图库的风格\n",
    "plt.rcParams['font.family']='SimHei'\n",
    "plt.rcParams['axes.unicode_minus']= False"
   ]
  },
  {
   "cell_type": "code",
   "execution_count": 107,
   "metadata": {},
   "outputs": [],
   "source": [
    "userdata=pd.read_csv('userdata.csv')"
   ]
  },
  {
   "cell_type": "code",
   "execution_count": 108,
   "metadata": {},
   "outputs": [
    {
     "data": {
      "text/plain": [
       "2017-12-02    1376713\n",
       "2017-12-03    1363677\n",
       "2017-12-01    1082387\n",
       "2017-11-30    1043015\n",
       "2017-11-29    1028342\n",
       "2017-11-27    1008967\n",
       "2017-11-28     986162\n",
       "Name: Date, dtype: int64"
      ]
     },
     "execution_count": 108,
     "metadata": {},
     "output_type": "execute_result"
    }
   ],
   "source": [
    "userdata['Date'].value_counts()"
   ]
  },
  {
   "cell_type": "code",
   "execution_count": 109,
   "metadata": {},
   "outputs": [
    {
     "data": {
      "text/plain": [
       "pv      7064791\n",
       "cart     437025\n",
       "fav      227271\n",
       "buy      160176\n",
       "Name: Type, dtype: int64"
      ]
     },
     "execution_count": 109,
     "metadata": {},
     "output_type": "execute_result"
    }
   ],
   "source": [
    "userdata['Type'].value_counts()"
   ]
  },
  {
   "cell_type": "code",
   "execution_count": 110,
   "metadata": {},
   "outputs": [],
   "source": [
    "#RFM,由于缺少M（金额）列，仅通过R（最近一次购买时间）和F（消费频率）对用户进行价值分析\n",
    "buy_group = userdata[userdata['Type']=='buy']"
   ]
  },
  {
   "cell_type": "code",
   "execution_count": 111,
   "metadata": {},
   "outputs": [
    {
     "name": "stdout",
     "output_type": "stream",
     "text": [
      "<class 'pandas.core.frame.DataFrame'>\n",
      "Int64Index: 160176 entries, 102 to 7889163\n",
      "Data columns (total 8 columns):\n",
      " #   Column       Non-Null Count   Dtype \n",
      "---  ------       --------------   ----- \n",
      " 0   Unnamed: 0   160176 non-null  int64 \n",
      " 1   User_Id      160176 non-null  int64 \n",
      " 2   Sku_Id       160176 non-null  int64 \n",
      " 3   Category_Id  160176 non-null  int64 \n",
      " 4   Type         160176 non-null  object\n",
      " 5   Timestamp    160176 non-null  object\n",
      " 6   Date         160176 non-null  object\n",
      " 7   Time         160176 non-null  object\n",
      "dtypes: int64(4), object(4)\n",
      "memory usage: 11.0+ MB\n"
     ]
    }
   ],
   "source": [
    "buy_group.info()"
   ]
  },
  {
   "cell_type": "code",
   "execution_count": 112,
   "metadata": {},
   "outputs": [],
   "source": [
    "recenct_day=pd.to_datetime('2017-12-04')-pd.to_datetime(buy_group['Date'])\n",
    "\n",
    "recency = {'Recency':recenct_day.values}\n",
    "recency = pd.DataFrame(recency,index =recenct_day.index )\n",
    "\n",
    "R_data = buy_group.join(recency)\n"
   ]
  },
  {
   "cell_type": "code",
   "execution_count": 113,
   "metadata": {},
   "outputs": [],
   "source": [
    "times = R_data.groupby(by = 'User_Id').count()['Type']\n",
    "\n",
    "frequence = {'Frequence':times.values,'User_Id':times.index}\n",
    "F_data = pd.DataFrame(frequence)"
   ]
  },
  {
   "cell_type": "code",
   "execution_count": 114,
   "metadata": {},
   "outputs": [
    {
     "data": {
      "text/html": [
       "<div>\n",
       "<style scoped>\n",
       "    .dataframe tbody tr th:only-of-type {\n",
       "        vertical-align: middle;\n",
       "    }\n",
       "\n",
       "    .dataframe tbody tr th {\n",
       "        vertical-align: top;\n",
       "    }\n",
       "\n",
       "    .dataframe thead th {\n",
       "        text-align: right;\n",
       "    }\n",
       "</style>\n",
       "<table border=\"1\" class=\"dataframe\">\n",
       "  <thead>\n",
       "    <tr style=\"text-align: right;\">\n",
       "      <th></th>\n",
       "      <th>Unnamed: 0</th>\n",
       "      <th>User_Id</th>\n",
       "      <th>Sku_Id</th>\n",
       "      <th>Category_Id</th>\n",
       "      <th>Type</th>\n",
       "      <th>Timestamp</th>\n",
       "      <th>Date</th>\n",
       "      <th>Time</th>\n",
       "      <th>Recency</th>\n",
       "      <th>Frequence</th>\n",
       "    </tr>\n",
       "  </thead>\n",
       "  <tbody>\n",
       "    <tr>\n",
       "      <th>0</th>\n",
       "      <td>23649307</td>\n",
       "      <td>251445</td>\n",
       "      <td>2201791</td>\n",
       "      <td>339305</td>\n",
       "      <td>buy</td>\n",
       "      <td>2017-12-03 09:38:46</td>\n",
       "      <td>2017-12-03</td>\n",
       "      <td>09:38:46</td>\n",
       "      <td>1 days</td>\n",
       "      <td>3</td>\n",
       "    </tr>\n",
       "    <tr>\n",
       "      <th>1</th>\n",
       "      <td>72372292</td>\n",
       "      <td>643368</td>\n",
       "      <td>1068800</td>\n",
       "      <td>4048584</td>\n",
       "      <td>buy</td>\n",
       "      <td>2017-11-27 12:23:32</td>\n",
       "      <td>2017-11-27</td>\n",
       "      <td>12:23:32</td>\n",
       "      <td>7 days</td>\n",
       "      <td>1</td>\n",
       "    </tr>\n",
       "    <tr>\n",
       "      <th>2</th>\n",
       "      <td>69123600</td>\n",
       "      <td>494873</td>\n",
       "      <td>1447767</td>\n",
       "      <td>3645362</td>\n",
       "      <td>buy</td>\n",
       "      <td>2017-11-29 16:03:27</td>\n",
       "      <td>2017-11-29</td>\n",
       "      <td>16:03:27</td>\n",
       "      <td>5 days</td>\n",
       "      <td>1</td>\n",
       "    </tr>\n",
       "    <tr>\n",
       "      <th>3</th>\n",
       "      <td>6878740</td>\n",
       "      <td>394729</td>\n",
       "      <td>4449808</td>\n",
       "      <td>903809</td>\n",
       "      <td>buy</td>\n",
       "      <td>2017-11-30 13:37:18</td>\n",
       "      <td>2017-11-30</td>\n",
       "      <td>13:37:18</td>\n",
       "      <td>4 days</td>\n",
       "      <td>1</td>\n",
       "    </tr>\n",
       "    <tr>\n",
       "      <th>4</th>\n",
       "      <td>62061050</td>\n",
       "      <td>178833</td>\n",
       "      <td>303177</td>\n",
       "      <td>3645362</td>\n",
       "      <td>buy</td>\n",
       "      <td>2017-11-30 17:25:42</td>\n",
       "      <td>2017-11-30</td>\n",
       "      <td>17:25:42</td>\n",
       "      <td>4 days</td>\n",
       "      <td>1</td>\n",
       "    </tr>\n",
       "  </tbody>\n",
       "</table>\n",
       "</div>"
      ],
      "text/plain": [
       "   Unnamed: 0  User_Id   Sku_Id  Category_Id Type            Timestamp  \\\n",
       "0    23649307   251445  2201791       339305  buy  2017-12-03 09:38:46   \n",
       "1    72372292   643368  1068800      4048584  buy  2017-11-27 12:23:32   \n",
       "2    69123600   494873  1447767      3645362  buy  2017-11-29 16:03:27   \n",
       "3     6878740   394729  4449808       903809  buy  2017-11-30 13:37:18   \n",
       "4    62061050   178833   303177      3645362  buy  2017-11-30 17:25:42   \n",
       "\n",
       "         Date      Time Recency  Frequence  \n",
       "0  2017-12-03  09:38:46  1 days          3  \n",
       "1  2017-11-27  12:23:32  7 days          1  \n",
       "2  2017-11-29  16:03:27  5 days          1  \n",
       "3  2017-11-30  13:37:18  4 days          1  \n",
       "4  2017-11-30  17:25:42  4 days          1  "
      ]
     },
     "execution_count": 114,
     "metadata": {},
     "output_type": "execute_result"
    }
   ],
   "source": [
    "RF_data = R_data.merge(F_data,on=\"User_Id\",how=\"left\") \n",
    "RF_data.head()"
   ]
  },
  {
   "cell_type": "code",
   "execution_count": 115,
   "metadata": {},
   "outputs": [
    {
     "data": {
      "text/plain": [
       "Unnamed: 0     50062624.0\n",
       "User_Id          511061.0\n",
       "Sku_Id          2593548.0\n",
       "Category_Id     2640118.0\n",
       "Recency               4.0\n",
       "Frequence             1.0\n",
       "Name: 0.5, dtype: float64"
      ]
     },
     "execution_count": 115,
     "metadata": {},
     "output_type": "execute_result"
    }
   ],
   "source": [
    "RF_data['Recency'].dtype\n",
    "RF_data['Recency'] = RF_data['Recency']/np.timedelta64(1, 'D')\n",
    "RF_data['Recency']=RF_data['Recency'].astype('int64')\n",
    "RF_data.quantile()"
   ]
  },
  {
   "cell_type": "code",
   "execution_count": 116,
   "metadata": {},
   "outputs": [],
   "source": [
    "RF_data['R']=(RF_data['Recency']).apply(lambda x: '1' if x <=4 else '0')\n",
    "RF_data['F']=(RF_data['Frequence']).apply(lambda x: '1' if x >1 else '0')"
   ]
  },
  {
   "cell_type": "code",
   "execution_count": 117,
   "metadata": {},
   "outputs": [
    {
     "data": {
      "text/html": [
       "<div>\n",
       "<style scoped>\n",
       "    .dataframe tbody tr th:only-of-type {\n",
       "        vertical-align: middle;\n",
       "    }\n",
       "\n",
       "    .dataframe tbody tr th {\n",
       "        vertical-align: top;\n",
       "    }\n",
       "\n",
       "    .dataframe thead th {\n",
       "        text-align: right;\n",
       "    }\n",
       "</style>\n",
       "<table border=\"1\" class=\"dataframe\">\n",
       "  <thead>\n",
       "    <tr style=\"text-align: right;\">\n",
       "      <th></th>\n",
       "      <th>Unnamed: 0</th>\n",
       "      <th>User_Id</th>\n",
       "      <th>Sku_Id</th>\n",
       "      <th>Category_Id</th>\n",
       "      <th>Type</th>\n",
       "      <th>Timestamp</th>\n",
       "      <th>Date</th>\n",
       "      <th>Time</th>\n",
       "      <th>Recency</th>\n",
       "      <th>Frequence</th>\n",
       "      <th>R</th>\n",
       "      <th>F</th>\n",
       "      <th>RF</th>\n",
       "    </tr>\n",
       "  </thead>\n",
       "  <tbody>\n",
       "    <tr>\n",
       "      <th>0</th>\n",
       "      <td>23649307</td>\n",
       "      <td>251445</td>\n",
       "      <td>2201791</td>\n",
       "      <td>339305</td>\n",
       "      <td>buy</td>\n",
       "      <td>2017-12-03 09:38:46</td>\n",
       "      <td>2017-12-03</td>\n",
       "      <td>09:38:46</td>\n",
       "      <td>1</td>\n",
       "      <td>3</td>\n",
       "      <td>1</td>\n",
       "      <td>1</td>\n",
       "      <td>重要价值客户</td>\n",
       "    </tr>\n",
       "    <tr>\n",
       "      <th>1</th>\n",
       "      <td>72372292</td>\n",
       "      <td>643368</td>\n",
       "      <td>1068800</td>\n",
       "      <td>4048584</td>\n",
       "      <td>buy</td>\n",
       "      <td>2017-11-27 12:23:32</td>\n",
       "      <td>2017-11-27</td>\n",
       "      <td>12:23:32</td>\n",
       "      <td>7</td>\n",
       "      <td>1</td>\n",
       "      <td>0</td>\n",
       "      <td>0</td>\n",
       "      <td>一般发展客户</td>\n",
       "    </tr>\n",
       "    <tr>\n",
       "      <th>2</th>\n",
       "      <td>69123600</td>\n",
       "      <td>494873</td>\n",
       "      <td>1447767</td>\n",
       "      <td>3645362</td>\n",
       "      <td>buy</td>\n",
       "      <td>2017-11-29 16:03:27</td>\n",
       "      <td>2017-11-29</td>\n",
       "      <td>16:03:27</td>\n",
       "      <td>5</td>\n",
       "      <td>1</td>\n",
       "      <td>0</td>\n",
       "      <td>0</td>\n",
       "      <td>一般发展客户</td>\n",
       "    </tr>\n",
       "    <tr>\n",
       "      <th>3</th>\n",
       "      <td>6878740</td>\n",
       "      <td>394729</td>\n",
       "      <td>4449808</td>\n",
       "      <td>903809</td>\n",
       "      <td>buy</td>\n",
       "      <td>2017-11-30 13:37:18</td>\n",
       "      <td>2017-11-30</td>\n",
       "      <td>13:37:18</td>\n",
       "      <td>4</td>\n",
       "      <td>1</td>\n",
       "      <td>1</td>\n",
       "      <td>0</td>\n",
       "      <td>重要挽留客户</td>\n",
       "    </tr>\n",
       "    <tr>\n",
       "      <th>4</th>\n",
       "      <td>62061050</td>\n",
       "      <td>178833</td>\n",
       "      <td>303177</td>\n",
       "      <td>3645362</td>\n",
       "      <td>buy</td>\n",
       "      <td>2017-11-30 17:25:42</td>\n",
       "      <td>2017-11-30</td>\n",
       "      <td>17:25:42</td>\n",
       "      <td>4</td>\n",
       "      <td>1</td>\n",
       "      <td>1</td>\n",
       "      <td>0</td>\n",
       "      <td>重要挽留客户</td>\n",
       "    </tr>\n",
       "  </tbody>\n",
       "</table>\n",
       "</div>"
      ],
      "text/plain": [
       "   Unnamed: 0  User_Id   Sku_Id  Category_Id Type            Timestamp  \\\n",
       "0    23649307   251445  2201791       339305  buy  2017-12-03 09:38:46   \n",
       "1    72372292   643368  1068800      4048584  buy  2017-11-27 12:23:32   \n",
       "2    69123600   494873  1447767      3645362  buy  2017-11-29 16:03:27   \n",
       "3     6878740   394729  4449808       903809  buy  2017-11-30 13:37:18   \n",
       "4    62061050   178833   303177      3645362  buy  2017-11-30 17:25:42   \n",
       "\n",
       "         Date      Time  Recency  Frequence  R  F      RF  \n",
       "0  2017-12-03  09:38:46        1          3  1  1  重要价值客户  \n",
       "1  2017-11-27  12:23:32        7          1  0  0  一般发展客户  \n",
       "2  2017-11-29  16:03:27        5          1  0  0  一般发展客户  \n",
       "3  2017-11-30  13:37:18        4          1  1  0  重要挽留客户  \n",
       "4  2017-11-30  17:25:42        4          1  1  0  重要挽留客户  "
      ]
     },
     "execution_count": 117,
     "metadata": {},
     "output_type": "execute_result"
    }
   ],
   "source": [
    "def rmf(r,f):\n",
    "    if r==\"1\" and f==\"1\":\n",
    "        return \"重要价值客户\"\n",
    "    elif r==\"0\" and f==\"1\":\n",
    "        return \"重要保持客户\"\n",
    "    elif r==\"1\" and f==\"0\":\n",
    "        return \"重要挽留客户\"\n",
    "    else:\n",
    "        return \"一般发展客户\"\n",
    "    \n",
    "RF_data['RF']=RF_data.apply(lambda row: rmf(row['R'], row['F']), axis=1)\n",
    "RF_data.head()"
   ]
  },
  {
   "cell_type": "code",
   "execution_count": 118,
   "metadata": {},
   "outputs": [
    {
     "data": {
      "text/plain": [
       "重要挽留客户    68574\n",
       "一般发展客户    47164\n",
       "重要价值客户    25751\n",
       "重要保持客户    18687\n",
       "Name: RF, dtype: int64"
      ]
     },
     "execution_count": 118,
     "metadata": {},
     "output_type": "execute_result"
    }
   ],
   "source": [
    "rmf_data = RF_data['RF'].value_counts()\n",
    "rmf_data"
   ]
  },
  {
   "cell_type": "code",
   "execution_count": 119,
   "metadata": {},
   "outputs": [
    {
     "data": {
      "text/plain": [
       "Text(0.5, 1.0, 'RF用户分层')"
      ]
     },
     "execution_count": 119,
     "metadata": {},
     "output_type": "execute_result"
    },
    {
     "data": {
      "image/png": "[encoded data removed]",
      "text/plain": [
       "<Figure size 1600x600 with 1 Axes>"
      ]
     },
     "metadata": {},
     "output_type": "display_data"
    }
   ],
   "source": [
    "RFM_pie = RF_data['RF'].value_counts().reset_index()\n",
    "RFM_pie['Rate'] = RFM_pie['RF'] / RFM_pie['RF'].sum()\n",
    "fig, ax = plt.subplots(figsize=[16,6])\n",
    "plt.pie(RFM_pie['Rate'], labels = RFM_pie['index'], startangle = 90,autopct=\"%1.2f%%\",\n",
    "        counterclock = False,colors = ['yellowgreen', 'gold', 'lightskyblue', 'lightcoral'])\n",
    "plt.axis('square')\n",
    "plt.title('RF用户分层')"
   ]
  },
  {
   "cell_type": "code",
   "execution_count": 120,
   "metadata": {},
   "outputs": [],
   "source": [
    "#留存分析\n",
    "# 按日期排序\n",
    "userdata2 = userdata.sort_values('Date')"
   ]
  },
  {
   "cell_type": "code",
   "execution_count": 121,
   "metadata": {},
   "outputs": [],
   "source": [
    "userdata['Date'] = pd.to_datetime(userdata['Date'])"
   ]
  },
  {
   "cell_type": "code",
   "execution_count": 122,
   "metadata": {},
   "outputs": [],
   "source": [
    "# 计算第一天活跃过的用户\n",
    "first_day_users = set(userdata[userdata['Date'] == '2017-11-27']['User_Id'])"
   ]
  },
  {
   "cell_type": "code",
   "execution_count": 123,
   "metadata": {},
   "outputs": [
    {
     "data": {
      "text/plain": [
       "0.5268120241770841"
      ]
     },
     "execution_count": 123,
     "metadata": {},
     "output_type": "execute_result"
    }
   ],
   "source": [
    "# 计算次日留存率\n",
    "next_day_users = set(userdata[userdata['Date'] == '2017-11-28']['User_Id'])\n",
    "next_day_retention = len(next_day_users.intersection(first_day_users)) / len(first_day_users)\n",
    "next_day_retention"
   ]
  },
  {
   "cell_type": "code",
   "execution_count": 124,
   "metadata": {},
   "outputs": [
    {
     "data": {
      "text/plain": [
       "0.5953883519555881"
      ]
     },
     "execution_count": 124,
     "metadata": {},
     "output_type": "execute_result"
    }
   ],
   "source": [
    "# 计算七日留存率\n",
    "seven_day_users = set(userdata[userdata['Date']== '2017-12-03']['User_Id'])\n",
    "seven_day_retention = len(seven_day_users.intersection(first_day_users)) / len(first_day_users)\n",
    "seven_day_retention"
   ]
  },
  {
   "cell_type": "code",
   "execution_count": 125,
   "metadata": {},
   "outputs": [
    {
     "data": {
      "image/png": "[encoded data removed]",
      "text/plain": [
       "<Figure size 640x480 with 1 Axes>"
      ]
     },
     "metadata": {},
     "output_type": "display_data"
    }
   ],
   "source": [
    "# 绘制次日留存率和七日留存率的柱状图\n",
    "retention_data = {'Retention Rate': [next_day_retention, seven_day_retention], 'Days': ['Next Day', 'Seven-Day']}\n",
    "retention_df = pd.DataFrame(retention_data)\n",
    "\n",
    "sns.barplot(x='Days', y='Retention Rate', data=retention_df)\n",
    "plt.xlabel('日期')\n",
    "plt.ylabel('留存率')\n",
    "plt.title('首日用户次日&七日留存率')\n",
    "plt.show()"
   ]
  },
  {
   "cell_type": "code",
   "execution_count": null,
   "metadata": {},
   "outputs": [],
   "source": [
    "#五六成的留存率，第七日比次日更高，看日期可知第七日为周末，周末量大回流了。"
   ]
  }
 ],
 "metadata": {
  "kernelspec": {
   "display_name": "base",
   "language": "python",
   "name": "python3"
  },
  "language_info": {
   "codemirror_mode": {
    "name": "ipython",
    "version": 3
   },
   "file_extension": ".py",
   "mimetype": "text/x-python",
   "name": "python",
   "nbconvert_exporter": "python",
   "pygments_lexer": "ipython3",
   "version": "3.9.13"
  },
  "orig_nbformat": 4
 },
 "nbformat": 4,
 "nbformat_minor": 2
}
