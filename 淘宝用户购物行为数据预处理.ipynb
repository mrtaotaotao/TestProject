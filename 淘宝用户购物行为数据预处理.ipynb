{
 "cells": [
  {
   "cell_type": "code",
   "execution_count": 1,
   "metadata": {},
   "outputs": [],
   "source": [
    "#User Behavior Data from Taobao for Recommendation（下载自阿里云天池）\n",
    "#1.概述\n",
    "#UserBehavior是阿里巴巴提供的一个淘宝用户行为数据集，用于隐式反馈推荐问题的研究。\n",
    "\n",
    "#2.介绍\n",
    "#文件名称\t说明\t包含特征\n",
    "#UserBehavior.csv\t包含所有的用户行为数据\t用户ID，商品ID，商品类目ID，行为类型，时间戳\n",
    "#UserBehavior.csv\n",
    "#本数据集包含了2017年11月25日至2017年12月3日之间，有行为的约一百万随机用户的所有行为（行为包括点击、购买、加购、喜欢）。数据集的组织形式和MovieLens-20M类似，即数据集的每一行表示一条用户行为，由用户ID、商品ID、商品类目ID、行为类型和时间戳组成，并以逗号分隔。关于数据集中每一列的详细描述如下：\n",
    "\n",
    "#列名称\t说明\n",
    "#用户ID\t整数类型，序列化后的用户ID\n",
    "#商品ID\t整数类型，序列化后的商品ID\n",
    "#商品类目ID\t整数类型，序列化后的商品所属类目ID\n",
    "#行为类型\t字符串，枚举类型，包括('pv', 'buy', 'cart', 'fav')\n",
    "#时间戳\t行为发生的时间戳\n",
    "#注意到，用户行为类型共有四种，它们分别是\n",
    "\n",
    "#行为类型\t说明\n",
    "#pv\t商品详情页pv，等价于点击\n",
    "#buy\t商品购买\n",
    "#cart\t将商品加入购物车\n",
    "#fav\t收藏商品\n",
    "\n",
    "#关于数据集大小的一些说明如下\n",
    "#维度\t数量\n",
    "#用户数量\t987,994\n",
    "#商品数量\t4,162,024\n",
    "#用户数量\t987,994\n",
    "#商品类目数量\t9,439\n",
    "#所有行为数量\t100,150,807"
   ]
  },
  {
   "cell_type": "code",
   "execution_count": 2,
   "metadata": {},
   "outputs": [],
   "source": [
    "import pandas as pd\n",
    "import numpy as np\n",
    "import time\n",
    "import warnings\n",
    "warnings.filterwarnings('ignore')"
   ]
  },
  {
   "cell_type": "code",
   "execution_count": 3,
   "metadata": {},
   "outputs": [],
   "source": [
    "userbehavior = pd.read_csv('UserBehavior.csv')"
   ]
  },
  {
   "cell_type": "code",
   "execution_count": 4,
   "metadata": {},
   "outputs": [
    {
     "data": {
      "text/plain": [
       "(100150806, 5)"
      ]
     },
     "execution_count": 4,
     "metadata": {},
     "output_type": "execute_result"
    }
   ],
   "source": [
    "userbehavior.shape"
   ]
  },
  {
   "cell_type": "code",
   "execution_count": 5,
   "metadata": {},
   "outputs": [],
   "source": [
    "#数据量过大，随机抽样10000000条\n",
    "sample_data=userbehavior.sample(n=10000000)"
   ]
  },
  {
   "cell_type": "code",
   "execution_count": 6,
   "metadata": {},
   "outputs": [
    {
     "data": {
      "text/html": [
       "<div>\n",
       "<style scoped>\n",
       "    .dataframe tbody tr th:only-of-type {\n",
       "        vertical-align: middle;\n",
       "    }\n",
       "\n",
       "    .dataframe tbody tr th {\n",
       "        vertical-align: top;\n",
       "    }\n",
       "\n",
       "    .dataframe thead th {\n",
       "        text-align: right;\n",
       "    }\n",
       "</style>\n",
       "<table border=\"1\" class=\"dataframe\">\n",
       "  <thead>\n",
       "    <tr style=\"text-align: right;\">\n",
       "      <th></th>\n",
       "      <th>1</th>\n",
       "      <th>2268318</th>\n",
       "      <th>2520377</th>\n",
       "      <th>pv</th>\n",
       "      <th>1511544070</th>\n",
       "    </tr>\n",
       "  </thead>\n",
       "  <tbody>\n",
       "    <tr>\n",
       "      <th>15646581</th>\n",
       "      <td>800345</td>\n",
       "      <td>3183557</td>\n",
       "      <td>3277224</td>\n",
       "      <td>pv</td>\n",
       "      <td>1512035492</td>\n",
       "    </tr>\n",
       "    <tr>\n",
       "      <th>33903585</th>\n",
       "      <td>721144</td>\n",
       "      <td>1484606</td>\n",
       "      <td>3323023</td>\n",
       "      <td>pv</td>\n",
       "      <td>1511930196</td>\n",
       "    </tr>\n",
       "    <tr>\n",
       "      <th>39201892</th>\n",
       "      <td>966914</td>\n",
       "      <td>1617310</td>\n",
       "      <td>3132593</td>\n",
       "      <td>fav</td>\n",
       "      <td>1512047764</td>\n",
       "    </tr>\n",
       "    <tr>\n",
       "      <th>62830129</th>\n",
       "      <td>212773</td>\n",
       "      <td>3601476</td>\n",
       "      <td>1265358</td>\n",
       "      <td>pv</td>\n",
       "      <td>1512233457</td>\n",
       "    </tr>\n",
       "    <tr>\n",
       "      <th>77317563</th>\n",
       "      <td>870715</td>\n",
       "      <td>5086158</td>\n",
       "      <td>4756105</td>\n",
       "      <td>pv</td>\n",
       "      <td>1511872177</td>\n",
       "    </tr>\n",
       "  </tbody>\n",
       "</table>\n",
       "</div>"
      ],
      "text/plain": [
       "               1  2268318  2520377   pv  1511544070\n",
       "15646581  800345  3183557  3277224   pv  1512035492\n",
       "33903585  721144  1484606  3323023   pv  1511930196\n",
       "39201892  966914  1617310  3132593  fav  1512047764\n",
       "62830129  212773  3601476  1265358   pv  1512233457\n",
       "77317563  870715  5086158  4756105   pv  1511872177"
      ]
     },
     "execution_count": 6,
     "metadata": {},
     "output_type": "execute_result"
    }
   ],
   "source": [
    "sample_data.head()"
   ]
  },
  {
   "cell_type": "code",
   "execution_count": 7,
   "metadata": {},
   "outputs": [],
   "source": [
    "#缺少列名,补充\n",
    "sample_data.columns=['User_Id','Sku_Id','Category_Id','Type','Timestamp']"
   ]
  },
  {
   "cell_type": "code",
   "execution_count": 8,
   "metadata": {},
   "outputs": [
    {
     "data": {
      "text/plain": [
       "User_Id        0\n",
       "Sku_Id         0\n",
       "Category_Id    0\n",
       "Type           0\n",
       "Timestamp      0\n",
       "dtype: int64"
      ]
     },
     "execution_count": 8,
     "metadata": {},
     "output_type": "execute_result"
    }
   ],
   "source": [
    "sample_data.isnull().sum()"
   ]
  },
  {
   "cell_type": "code",
   "execution_count": 9,
   "metadata": {},
   "outputs": [
    {
     "name": "stdout",
     "output_type": "stream",
     "text": [
      "<class 'pandas.core.frame.DataFrame'>\n",
      "Int64Index: 10000000 entries, 15646581 to 24001789\n",
      "Data columns (total 5 columns):\n",
      " #   Column       Dtype \n",
      "---  ------       ----- \n",
      " 0   User_Id      int64 \n",
      " 1   Sku_Id       int64 \n",
      " 2   Category_Id  int64 \n",
      " 3   Type         object\n",
      " 4   Timestamp    int64 \n",
      "dtypes: int64(4), object(1)\n",
      "memory usage: 457.8+ MB\n"
     ]
    }
   ],
   "source": [
    "sample_data.info()"
   ]
  },
  {
   "cell_type": "code",
   "execution_count": 10,
   "metadata": {},
   "outputs": [
    {
     "data": {
      "text/plain": [
       "(32, 5)"
      ]
     },
     "execution_count": 10,
     "metadata": {},
     "output_type": "execute_result"
    }
   ],
   "source": [
    "sample_data[sample_data[\"Timestamp\"]<0].shape"
   ]
  },
  {
   "cell_type": "code",
   "execution_count": 11,
   "metadata": {},
   "outputs": [],
   "source": [
    "#有8行时间戳为负值的异常行，去掉\n",
    "sample_data=sample_data[sample_data[\"Timestamp\"]>0]"
   ]
  },
  {
   "cell_type": "code",
   "execution_count": 12,
   "metadata": {},
   "outputs": [
    {
     "data": {
      "text/plain": [
       "pv      8959465\n",
       "cart     551211\n",
       "fav      288484\n",
       "buy      200808\n",
       "Name: Type, dtype: int64"
      ]
     },
     "execution_count": 12,
     "metadata": {},
     "output_type": "execute_result"
    }
   ],
   "source": [
    "sample_data[\"Type\"].value_counts()"
   ]
  },
  {
   "cell_type": "code",
   "execution_count": 13,
   "metadata": {},
   "outputs": [],
   "source": [
    "sample_data.loc[:,'Timestamp']=sample_data['Timestamp'].apply(lambda x: time.strftime(\"%Y-%m-%d %H:%M:%S\", time.localtime(x)))\n",
    "sample_data.loc[:,'Date']=sample_data['Timestamp'].apply(lambda x:x.split(' ')[0])\n",
    "sample_data.loc[:,'Time']=sample_data['Timestamp'].apply(lambda x:x.split(' ')[1])"
   ]
  },
  {
   "cell_type": "code",
   "execution_count": 14,
   "metadata": {},
   "outputs": [
    {
     "name": "stdout",
     "output_type": "stream",
     "text": [
      "2017-12-02    1376713\n",
      "2017-12-03    1363677\n",
      "2017-12-01    1082387\n",
      "2017-11-26    1064362\n",
      "2017-11-30    1043015\n",
      "               ...   \n",
      "2028-10-24          1\n",
      "2021-11-03          1\n",
      "2019-11-03          1\n",
      "2017-10-07          1\n",
      "2017-10-11          1\n",
      "Name: Date, Length: 169, dtype: int64\n"
     ]
    }
   ],
   "source": [
    "print(sample_data[\"Date\"].value_counts())"
   ]
  },
  {
   "cell_type": "code",
   "execution_count": 15,
   "metadata": {},
   "outputs": [],
   "source": [
    "#存在异常日期，只取七天\n",
    "userdata=sample_data[(sample_data[\"Date\"]>='2017-11-27')&(sample_data[\"Date\"]<='2017-12-03')]"
   ]
  },
  {
   "cell_type": "code",
   "execution_count": 16,
   "metadata": {},
   "outputs": [
    {
     "name": "stdout",
     "output_type": "stream",
     "text": [
      "2017-12-02    1376713\n",
      "2017-12-03    1363677\n",
      "2017-12-01    1082387\n",
      "2017-11-30    1043015\n",
      "2017-11-29    1028342\n",
      "2017-11-27    1008967\n",
      "2017-11-28     986162\n",
      "Name: Date, dtype: int64\n"
     ]
    }
   ],
   "source": [
    "print(userdata[\"Date\"].value_counts())"
   ]
  },
  {
   "cell_type": "code",
   "execution_count": 17,
   "metadata": {},
   "outputs": [
    {
     "data": {
      "text/html": [
       "<div>\n",
       "<style scoped>\n",
       "    .dataframe tbody tr th:only-of-type {\n",
       "        vertical-align: middle;\n",
       "    }\n",
       "\n",
       "    .dataframe tbody tr th {\n",
       "        vertical-align: top;\n",
       "    }\n",
       "\n",
       "    .dataframe thead th {\n",
       "        text-align: right;\n",
       "    }\n",
       "</style>\n",
       "<table border=\"1\" class=\"dataframe\">\n",
       "  <thead>\n",
       "    <tr style=\"text-align: right;\">\n",
       "      <th></th>\n",
       "      <th>用户数量</th>\n",
       "      <th>商品数量</th>\n",
       "      <th>商品类目数量</th>\n",
       "      <th>统计天数</th>\n",
       "    </tr>\n",
       "  </thead>\n",
       "  <tbody>\n",
       "    <tr>\n",
       "      <th>1</th>\n",
       "      <td>933816</td>\n",
       "      <td>1568812</td>\n",
       "      <td>8138</td>\n",
       "      <td>7</td>\n",
       "    </tr>\n",
       "  </tbody>\n",
       "</table>\n",
       "</div>"
      ],
      "text/plain": [
       "     用户数量     商品数量  商品类目数量  统计天数\n",
       "1  933816  1568812    8138     7"
      ]
     },
     "execution_count": 17,
     "metadata": {},
     "output_type": "execute_result"
    }
   ],
   "source": [
    "maindata=pd.DataFrame({\"用户数量\":len(set(list(userdata[\"User_Id\"]))),\"商品数量\":len(set(list(userdata[\"Sku_Id\"]))),\"商品类目数量\":len(set(list(userdata[\"Category_Id\"]))),\"统计天数\":len(set(list(userdata[\"Date\"])))},index=['1'])\n",
    "maindata"
   ]
  },
  {
   "cell_type": "code",
   "execution_count": 18,
   "metadata": {},
   "outputs": [],
   "source": [
    "userdata.to_csv('userdata.csv',sep=',')"
   ]
  },
  {
   "cell_type": "code",
   "execution_count": null,
   "metadata": {},
   "outputs": [],
   "source": []
  }
 ],
 "metadata": {
  "kernelspec": {
   "display_name": "base",
   "language": "python",
   "name": "python3"
  },
  "language_info": {
   "codemirror_mode": {
    "name": "ipython",
    "version": 3
   },
   "file_extension": ".py",
   "mimetype": "text/x-python",
   "name": "python",
   "nbconvert_exporter": "python",
   "pygments_lexer": "ipython3",
   "version": "3.9.13"
  },
  "orig_nbformat": 4
 },
 "nbformat": 4,
 "nbformat_minor": 2
}
