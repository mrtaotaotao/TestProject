{
 "cells": [
  {
   "cell_type": "code",
   "execution_count": 1,
   "metadata": {},
   "outputs": [],
   "source": [
    "#User Behavior Data from Taobao for Recommendation（下载自阿里云天池）\n",
    "#1.概述\n",
    "#UserBehavior是阿里巴巴提供的一个淘宝用户行为数据集，用于隐式反馈推荐问题的研究。\n",
    "\n",
    "#2.介绍\n",
    "#文件名称\t说明\t包含特征\n",
    "#UserBehavior.csv\t包含所有的用户行为数据\t用户ID，商品ID，商品类目ID，行为类型，时间戳\n",
    "#UserBehavior.csv\n",
    "#本数据集包含了2017年11月25日至2017年12月3日之间，有行为的约一百万随机用户的所有行为（行为包括点击、购买、加购、喜欢）。数据集的组织形式和MovieLens-20M类似，即数据集的每一行表示一条用户行为，由用户ID、商品ID、商品类目ID、行为类型和时间戳组成，并以逗号分隔。关于数据集中每一列的详细描述如下：\n",
    "\n",
    "#列名称\t说明\n",
    "#用户ID\t整数类型，序列化后的用户ID\n",
    "#商品ID\t整数类型，序列化后的商品ID\n",
    "#商品类目ID\t整数类型，序列化后的商品所属类目ID\n",
    "#行为类型\t字符串，枚举类型，包括('pv', 'buy', 'cart', 'fav')\n",
    "#时间戳\t行为发生的时间戳\n",
    "#注意到，用户行为类型共有四种，它们分别是\n",
    "\n",
    "#行为类型\t说明\n",
    "#pv\t商品详情页pv，等价于点击\n",
    "#buy\t商品购买\n",
    "#cart\t将商品加入购物车\n",
    "#fav\t收藏商品\n",
    "\n",
    "#关于数据集大小的一些说明如下\n",
    "#维度\t数量\n",
    "#用户数量\t987,994\n",
    "#商品数量\t4,162,024\n",
    "#用户数量\t987,994\n",
    "#商品类目数量\t9,439\n",
    "#所有行为数量\t100,150,807"
   ]
  },
  {
   "cell_type": "code",
   "execution_count": 2,
   "metadata": {},
   "outputs": [],
   "source": [
    "import pandas as pd\n",
    "import numpy as np\n",
    "import time\n",
    "import warnings\n",
    "warnings.filterwarnings('ignore')"
   ]
  },
  {
   "cell_type": "code",
   "execution_count": 3,
   "metadata": {},
   "outputs": [],
   "source": [
    "userbehavior = pd.read_csv('UserBehavior.csv')"
   ]
  },
  {
   "cell_type": "code",
   "execution_count": 4,
   "metadata": {},
   "outputs": [
    {
     "data": {
      "text/plain": [
       "(100150806, 5)"
      ]
     },
     "execution_count": 4,
     "metadata": {},
     "output_type": "execute_result"
    }
   ],
   "source": [
    "userbehavior.shape"
   ]
  },
  {
   "cell_type": "code",
   "execution_count": 6,
   "metadata": {},
   "outputs": [],
   "source": [
    "#数据量过大，随机抽样2000000条\n",
    "sample_data=userbehavior.sample(n=2000000)"
   ]
  },
  {
   "cell_type": "code",
   "execution_count": 7,
   "metadata": {},
   "outputs": [
    {
     "data": {
      "text/html": [
       "<div>\n",
       "<style scoped>\n",
       "    .dataframe tbody tr th:only-of-type {\n",
       "        vertical-align: middle;\n",
       "    }\n",
       "\n",
       "    .dataframe tbody tr th {\n",
       "        vertical-align: top;\n",
       "    }\n",
       "\n",
       "    .dataframe thead th {\n",
       "        text-align: right;\n",
       "    }\n",
       "</style>\n",
       "<table border=\"1\" class=\"dataframe\">\n",
       "  <thead>\n",
       "    <tr style=\"text-align: right;\">\n",
       "      <th></th>\n",
       "      <th>1</th>\n",
       "      <th>2268318</th>\n",
       "      <th>2520377</th>\n",
       "      <th>pv</th>\n",
       "      <th>1511544070</th>\n",
       "    </tr>\n",
       "  </thead>\n",
       "  <tbody>\n",
       "    <tr>\n",
       "      <th>53129121</th>\n",
       "      <td>68396</td>\n",
       "      <td>926802</td>\n",
       "      <td>1080785</td>\n",
       "      <td>pv</td>\n",
       "      <td>1511714942</td>\n",
       "    </tr>\n",
       "    <tr>\n",
       "      <th>8906520</th>\n",
       "      <td>486815</td>\n",
       "      <td>1733438</td>\n",
       "      <td>4758477</td>\n",
       "      <td>pv</td>\n",
       "      <td>1511881864</td>\n",
       "    </tr>\n",
       "    <tr>\n",
       "      <th>60129248</th>\n",
       "      <td>1007183</td>\n",
       "      <td>4707318</td>\n",
       "      <td>149192</td>\n",
       "      <td>cart</td>\n",
       "      <td>1512228369</td>\n",
       "    </tr>\n",
       "    <tr>\n",
       "      <th>40153872</th>\n",
       "      <td>1010430</td>\n",
       "      <td>4681706</td>\n",
       "      <td>2253970</td>\n",
       "      <td>pv</td>\n",
       "      <td>1511839728</td>\n",
       "    </tr>\n",
       "    <tr>\n",
       "      <th>55236994</th>\n",
       "      <td>782032</td>\n",
       "      <td>775632</td>\n",
       "      <td>4731191</td>\n",
       "      <td>pv</td>\n",
       "      <td>1511758955</td>\n",
       "    </tr>\n",
       "  </tbody>\n",
       "</table>\n",
       "</div>"
      ],
      "text/plain": [
       "                1  2268318  2520377    pv  1511544070\n",
       "53129121    68396   926802  1080785    pv  1511714942\n",
       "8906520    486815  1733438  4758477    pv  1511881864\n",
       "60129248  1007183  4707318   149192  cart  1512228369\n",
       "40153872  1010430  4681706  2253970    pv  1511839728\n",
       "55236994   782032   775632  4731191    pv  1511758955"
      ]
     },
     "execution_count": 7,
     "metadata": {},
     "output_type": "execute_result"
    }
   ],
   "source": [
    "sample_data.head()"
   ]
  },
  {
   "cell_type": "code",
   "execution_count": 8,
   "metadata": {},
   "outputs": [],
   "source": [
    "#缺少列名,补充\n",
    "sample_data.columns=['User_Id','Sku_Id','Category_Id','Type','Timestamp']"
   ]
  },
  {
   "cell_type": "code",
   "execution_count": 9,
   "metadata": {},
   "outputs": [
    {
     "data": {
      "text/plain": [
       "User_Id        0\n",
       "Sku_Id         0\n",
       "Category_Id    0\n",
       "Type           0\n",
       "Timestamp      0\n",
       "dtype: int64"
      ]
     },
     "execution_count": 9,
     "metadata": {},
     "output_type": "execute_result"
    }
   ],
   "source": [
    "sample_data.isnull().sum()"
   ]
  },
  {
   "cell_type": "code",
   "execution_count": 10,
   "metadata": {},
   "outputs": [
    {
     "name": "stdout",
     "output_type": "stream",
     "text": [
      "<class 'pandas.core.frame.DataFrame'>\n",
      "Int64Index: 2000000 entries, 53129121 to 22255036\n",
      "Data columns (total 5 columns):\n",
      " #   Column       Dtype \n",
      "---  ------       ----- \n",
      " 0   User_Id      int64 \n",
      " 1   Sku_Id       int64 \n",
      " 2   Category_Id  int64 \n",
      " 3   Type         object\n",
      " 4   Timestamp    int64 \n",
      "dtypes: int64(4), object(1)\n",
      "memory usage: 91.6+ MB\n"
     ]
    }
   ],
   "source": [
    "sample_data.info()"
   ]
  },
  {
   "cell_type": "code",
   "execution_count": 11,
   "metadata": {},
   "outputs": [
    {
     "data": {
      "text/plain": [
       "(8, 5)"
      ]
     },
     "execution_count": 11,
     "metadata": {},
     "output_type": "execute_result"
    }
   ],
   "source": [
    "sample_data[sample_data[\"Timestamp\"]<0].shape"
   ]
  },
  {
   "cell_type": "code",
   "execution_count": 12,
   "metadata": {},
   "outputs": [],
   "source": [
    "#有8行时间戳为负值的异常行，去掉\n",
    "sample_data=sample_data[sample_data[\"Timestamp\"]>0]"
   ]
  },
  {
   "cell_type": "code",
   "execution_count": 13,
   "metadata": {},
   "outputs": [
    {
     "data": {
      "text/plain": [
       "pv      1791130\n",
       "cart     110534\n",
       "fav       57588\n",
       "buy       40740\n",
       "Name: Type, dtype: int64"
      ]
     },
     "execution_count": 13,
     "metadata": {},
     "output_type": "execute_result"
    }
   ],
   "source": [
    "sample_data[\"Type\"].value_counts()"
   ]
  },
  {
   "cell_type": "code",
   "execution_count": 14,
   "metadata": {},
   "outputs": [],
   "source": [
    "sample_data.loc[:,'Timestamp']=sample_data['Timestamp'].apply(lambda x: time.strftime(\"%Y-%m-%d %H:%M:%S\", time.localtime(x)))\n",
    "sample_data.loc[:,'Date']=sample_data['Timestamp'].apply(lambda x:x.split(' ')[0])\n",
    "sample_data.loc[:,'Time']=sample_data['Timestamp'].apply(lambda x:x.split(' ')[1])"
   ]
  },
  {
   "cell_type": "code",
   "execution_count": 15,
   "metadata": {},
   "outputs": [
    {
     "name": "stdout",
     "output_type": "stream",
     "text": [
      "2017-12-02    275039\n",
      "2017-12-03    273841\n",
      "2017-12-01    216303\n",
      "2017-11-26    212857\n",
      "2017-11-30    209164\n",
      "               ...  \n",
      "2015-11-29         1\n",
      "2017-12-05         1\n",
      "2010-01-04         1\n",
      "2025-10-27         1\n",
      "2017-11-16         1\n",
      "Name: Date, Length: 65, dtype: int64\n"
     ]
    }
   ],
   "source": [
    "print(sample_data[\"Date\"].value_counts())"
   ]
  },
  {
   "cell_type": "code",
   "execution_count": 19,
   "metadata": {},
   "outputs": [],
   "source": [
    "#存在异常日期，只取七天\n",
    "userdata=sample_data[(sample_data[\"Date\"]>='2017-11-27')&(sample_data[\"Date\"]<='2017-12-03')]"
   ]
  },
  {
   "cell_type": "code",
   "execution_count": 20,
   "metadata": {},
   "outputs": [
    {
     "name": "stdout",
     "output_type": "stream",
     "text": [
      "2017-12-02    275039\n",
      "2017-12-03    273841\n",
      "2017-12-01    216303\n",
      "2017-11-30    209164\n",
      "2017-11-29    204473\n",
      "2017-11-27    201244\n",
      "2017-11-28    197389\n",
      "Name: Date, dtype: int64\n"
     ]
    }
   ],
   "source": [
    "print(userdata[\"Date\"].value_counts())"
   ]
  },
  {
   "cell_type": "code",
   "execution_count": 21,
   "metadata": {},
   "outputs": [
    {
     "data": {
      "text/html": [
       "<div>\n",
       "<style scoped>\n",
       "    .dataframe tbody tr th:only-of-type {\n",
       "        vertical-align: middle;\n",
       "    }\n",
       "\n",
       "    .dataframe tbody tr th {\n",
       "        vertical-align: top;\n",
       "    }\n",
       "\n",
       "    .dataframe thead th {\n",
       "        text-align: right;\n",
       "    }\n",
       "</style>\n",
       "<table border=\"1\" class=\"dataframe\">\n",
       "  <thead>\n",
       "    <tr style=\"text-align: right;\">\n",
       "      <th></th>\n",
       "      <th>用户数量</th>\n",
       "      <th>商品数量</th>\n",
       "      <th>商品类目数量</th>\n",
       "      <th>统计天数</th>\n",
       "    </tr>\n",
       "  </thead>\n",
       "  <tbody>\n",
       "    <tr>\n",
       "      <th>1</th>\n",
       "      <td>646387</td>\n",
       "      <td>644917</td>\n",
       "      <td>6894</td>\n",
       "      <td>7</td>\n",
       "    </tr>\n",
       "  </tbody>\n",
       "</table>\n",
       "</div>"
      ],
      "text/plain": [
       "     用户数量    商品数量  商品类目数量  统计天数\n",
       "1  646387  644917    6894     7"
      ]
     },
     "execution_count": 21,
     "metadata": {},
     "output_type": "execute_result"
    }
   ],
   "source": [
    "maindata=pd.DataFrame({\"用户数量\":len(set(list(userdata[\"User_Id\"]))),\"商品数量\":len(set(list(userdata[\"Sku_Id\"]))),\"商品类目数量\":len(set(list(userdata[\"Category_Id\"]))),\"统计天数\":len(set(list(userdata[\"Date\"])))},index=['1'])\n",
    "maindata"
   ]
  },
  {
   "cell_type": "code",
   "execution_count": 22,
   "metadata": {},
   "outputs": [],
   "source": [
    "userdata.to_csv('userdata.csv',sep=',')"
   ]
  },
  {
   "cell_type": "code",
   "execution_count": null,
   "metadata": {},
   "outputs": [],
   "source": []
  }
 ],
 "metadata": {
  "kernelspec": {
   "display_name": "base",
   "language": "python",
   "name": "python3"
  },
  "language_info": {
   "codemirror_mode": {
    "name": "ipython",
    "version": 3
   },
   "file_extension": ".py",
   "mimetype": "text/x-python",
   "name": "python",
   "nbconvert_exporter": "python",
   "pygments_lexer": "ipython3",
   "version": "3.9.13"
  },
  "orig_nbformat": 4
 },
 "nbformat": 4,
 "nbformat_minor": 2
}
